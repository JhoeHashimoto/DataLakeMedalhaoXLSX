{
 "cells": [
  {
   "cell_type": "markdown",
   "metadata": {},
   "source": [
    "# CARGA DOS DADOS PARA A BRONZE\n",
    "*ANÁLISE, TRATAMENTO E LIMPEZA*"
   ]
  },
  {
   "cell_type": "code",
   "execution_count": null,
   "metadata": {},
   "outputs": [],
   "source": [
    "!pip install pyarrow\n",
    "!pip install fastparquet"
   ]
  },
  {
   "cell_type": "code",
   "execution_count": 1,
   "metadata": {},
   "outputs": [],
   "source": [
    "import pandas as pd\n",
    "import numpy as np\n",
    "import os\n",
    "from glob import glob"
   ]
  },
  {
   "cell_type": "code",
   "execution_count": 2,
   "metadata": {},
   "outputs": [],
   "source": [
    "# Definindo os diretórios de origem e destino\n",
    "origem = 'C:\\\\Users\\\\jhoe.hashimoto\\\\Desktop\\\\v2dados_teste\\\\transient'\n",
    "destino = 'C:\\\\Users\\\\jhoe.hashimoto\\\\Desktop\\\\v2dados_teste\\\\bronze'"
   ]
  },
  {
   "cell_type": "code",
   "execution_count": 3,
   "metadata": {},
   "outputs": [],
   "source": [
    "# Lista todos os arquivos no diretório\n",
    "arquivos = os.listdir(origem)\n",
    "\n",
    "# Filtra apenas os arquivos .xlsx ou excel\n",
    "arquivos_xlsx = [arquivo for arquivo in arquivos if arquivo.endswith('.xlsx')]\n",
    "\n",
    "# Lista para armazenar os DataFrames\n",
    "dataframes = []\n",
    "\n",
    "# Lê cada arquivo .xlsx e armazena na lista\n",
    "for arquivo in arquivos_xlsx:\n",
    "    caminho_completo = os.path.join(origem, arquivo)\n",
    "    df = pd.read_excel(caminho_completo)\n",
    "    dataframes.append(df)\n",
    "\n",
    "    \n",
    "d1, d2, d3, d4= dataframes\n"
   ]
  },
  {
   "cell_type": "markdown",
   "metadata": {},
   "source": [
    "*IMPOSSIBILIDADE DE SALVAR OS ARQUIVOS DIRETAMENTE DE PARQUET, NECESSIDADE DE CONVERTER PARA OS TIPOS CORRETOS*"
   ]
  },
  {
   "cell_type": "markdown",
   "metadata": {},
   "source": [
    "**POSSUI A PRIMEIRA LINHA SEM REGISTROS E CÉLULAS MESCLADAS**"
   ]
  },
  {
   "cell_type": "markdown",
   "metadata": {},
   "source": [
    "*iremos APAGAR o Cabeçalho, inferindo o cabeçalho para próxima linha*"
   ]
  },
  {
   "cell_type": "code",
   "execution_count": 4,
   "metadata": {},
   "outputs": [],
   "source": [
    "for i, df in enumerate(dataframes):\n",
    "    # Verificar se o cabeçalho contém a palavra 'Unnamed'\n",
    "    if 'Unnamed' in df.columns[0]:\n",
    "        # Renomear colunas com os valores da primeira linha\n",
    "        df.columns = df.iloc[0]\n",
    "        # Remover a primeira linha\n",
    "        df.drop(df.index[0], axis=0, inplace=True)\n",
    "          # Atualizar o dataframe na lista\n",
    "        dataframes[i] = df\n",
    "      "
   ]
  },
  {
   "cell_type": "code",
   "execution_count": 5,
   "metadata": {},
   "outputs": [
    {
     "data": {
      "text/html": [
       "<div>\n",
       "<style scoped>\n",
       "    .dataframe tbody tr th:only-of-type {\n",
       "        vertical-align: middle;\n",
       "    }\n",
       "\n",
       "    .dataframe tbody tr th {\n",
       "        vertical-align: top;\n",
       "    }\n",
       "\n",
       "    .dataframe thead th {\n",
       "        text-align: right;\n",
       "    }\n",
       "</style>\n",
       "<table border=\"1\" class=\"dataframe\">\n",
       "  <thead>\n",
       "    <tr style=\"text-align: right;\">\n",
       "      <th></th>\n",
       "      <th>order_id</th>\n",
       "      <th>product_name</th>\n",
       "      <th>quantity</th>\n",
       "      <th>unit_price</th>\n",
       "      <th>cliente_id</th>\n",
       "      <th>order_date</th>\n",
       "    </tr>\n",
       "  </thead>\n",
       "  <tbody>\n",
       "    <tr>\n",
       "      <th>1</th>\n",
       "      <td>1</td>\n",
       "      <td>Produto A</td>\n",
       "      <td>3</td>\n",
       "      <td>25</td>\n",
       "      <td>74</td>\n",
       "      <td>2024-03-01 00:00:00</td>\n",
       "    </tr>\n",
       "    <tr>\n",
       "      <th>2</th>\n",
       "      <td>2</td>\n",
       "      <td>Produto B</td>\n",
       "      <td>2</td>\n",
       "      <td>30</td>\n",
       "      <td>36</td>\n",
       "      <td>2024-03-02 00:00:00</td>\n",
       "    </tr>\n",
       "    <tr>\n",
       "      <th>3</th>\n",
       "      <td>3</td>\n",
       "      <td>Produto C</td>\n",
       "      <td>1</td>\n",
       "      <td>20</td>\n",
       "      <td>12</td>\n",
       "      <td>2024-03-03 00:00:00</td>\n",
       "    </tr>\n",
       "    <tr>\n",
       "      <th>4</th>\n",
       "      <td>4</td>\n",
       "      <td>Produto A</td>\n",
       "      <td>4</td>\n",
       "      <td>25</td>\n",
       "      <td>92</td>\n",
       "      <td>2024-03-04 00:00:00</td>\n",
       "    </tr>\n",
       "    <tr>\n",
       "      <th>5</th>\n",
       "      <td>5</td>\n",
       "      <td>Produto D</td>\n",
       "      <td>2</td>\n",
       "      <td>40</td>\n",
       "      <td>55</td>\n",
       "      <td>2024-03-05 00:00:00</td>\n",
       "    </tr>\n",
       "  </tbody>\n",
       "</table>\n",
       "</div>"
      ],
      "text/plain": [
       "0 order_id product_name quantity unit_price cliente_id           order_date\n",
       "1        1    Produto A        3         25         74  2024-03-01 00:00:00\n",
       "2        2    Produto B        2         30         36  2024-03-02 00:00:00\n",
       "3        3    Produto C        1         20         12  2024-03-03 00:00:00\n",
       "4        4    Produto A        4         25         92  2024-03-04 00:00:00\n",
       "5        5    Produto D        2         40         55  2024-03-05 00:00:00"
      ]
     },
     "execution_count": 5,
     "metadata": {},
     "output_type": "execute_result"
    }
   ],
   "source": [
    "d4.head()"
   ]
  },
  {
   "cell_type": "markdown",
   "metadata": {},
   "source": [
    "*TESTANDO O RESULTADO DA OPERAÇÃO NO CABEÇALHO*"
   ]
  },
  {
   "cell_type": "code",
   "execution_count": 265,
   "metadata": {},
   "outputs": [],
   "source": [
    "#d4.to_excel('C:\\\\Users\\\\jhoe.hashimoto\\\\Desktop\\\\v2dados_teste\\\\bronze\\\\teste2.xlsx', index=False)"
   ]
  },
  {
   "cell_type": "code",
   "execution_count": 6,
   "metadata": {},
   "outputs": [
    {
     "name": "stdout",
     "output_type": "stream",
     "text": [
      "<class 'pandas.core.frame.DataFrame'>\n",
      "RangeIndex: 220 entries, 0 to 219\n",
      "Data columns (total 8 columns):\n",
      " #   Column         Non-Null Count  Dtype \n",
      "---  ------         --------------  ----- \n",
      " 0   id_cliente     220 non-null    int64 \n",
      " 1   nome           220 non-null    object\n",
      " 2   sobrenome      220 non-null    object\n",
      " 3   email          220 non-null    object\n",
      " 4   telefone       220 non-null    object\n",
      " 5   endereço       220 non-null    object\n",
      " 6   numero         220 non-null    int64 \n",
      " 7   Data_Cadastro  220 non-null    object\n",
      "dtypes: int64(2), object(6)\n",
      "memory usage: 13.9+ KB\n"
     ]
    }
   ],
   "source": [
    "d2.info()"
   ]
  },
  {
   "cell_type": "markdown",
   "metadata": {},
   "source": [
    "***ANÁLISE DAS COLUNAS DE DATA***\n",
    "#presença de strings, datas com formato incorreto#"
   ]
  },
  {
   "cell_type": "code",
   "execution_count": 7,
   "metadata": {},
   "outputs": [
    {
     "data": {
      "text/html": [
       "<div>\n",
       "<style scoped>\n",
       "    .dataframe tbody tr th:only-of-type {\n",
       "        vertical-align: middle;\n",
       "    }\n",
       "\n",
       "    .dataframe tbody tr th {\n",
       "        vertical-align: top;\n",
       "    }\n",
       "\n",
       "    .dataframe thead th {\n",
       "        text-align: right;\n",
       "    }\n",
       "</style>\n",
       "<table border=\"1\" class=\"dataframe\">\n",
       "  <thead>\n",
       "    <tr style=\"text-align: right;\">\n",
       "      <th></th>\n",
       "      <th>id_cliente</th>\n",
       "      <th>nome</th>\n",
       "      <th>sobrenome</th>\n",
       "      <th>email</th>\n",
       "      <th>telefone</th>\n",
       "      <th>endereço</th>\n",
       "      <th>numero</th>\n",
       "      <th>Data_Cadastro</th>\n",
       "    </tr>\n",
       "  </thead>\n",
       "  <tbody>\n",
       "    <tr>\n",
       "      <th>214</th>\n",
       "      <td>215</td>\n",
       "      <td>Marcelo</td>\n",
       "      <td>Silva</td>\n",
       "      <td>marcelo.silva@email.com</td>\n",
       "      <td>(11) 2345-6789</td>\n",
       "      <td>Avenida dos Narcisos</td>\n",
       "      <td>654</td>\n",
       "      <td>18/10/20233</td>\n",
       "    </tr>\n",
       "    <tr>\n",
       "      <th>215</th>\n",
       "      <td>216</td>\n",
       "      <td>Aline</td>\n",
       "      <td>Santos</td>\n",
       "      <td>aline.santos@email.com</td>\n",
       "      <td>(11) 3456-7890</td>\n",
       "      <td>Travessa das Tulipas</td>\n",
       "      <td>321</td>\n",
       "      <td>2021-02-05 00:00:00</td>\n",
       "    </tr>\n",
       "    <tr>\n",
       "      <th>216</th>\n",
       "      <td>217</td>\n",
       "      <td>Lucas</td>\n",
       "      <td>Lima</td>\n",
       "      <td>lucas.lima@email.com</td>\n",
       "      <td>(11) 4567-8901</td>\n",
       "      <td>Rua dos Girassóis</td>\n",
       "      <td>987</td>\n",
       "      <td>2023-08-03 00:00:00</td>\n",
       "    </tr>\n",
       "    <tr>\n",
       "      <th>217</th>\n",
       "      <td>218</td>\n",
       "      <td>Isabella</td>\n",
       "      <td>Campos</td>\n",
       "      <td>isabella.campos@email.com</td>\n",
       "      <td>(11) 5678-9012</td>\n",
       "      <td>Alameda dos Crisântemos</td>\n",
       "      <td>654</td>\n",
       "      <td>2023-09-09 00:00:00</td>\n",
       "    </tr>\n",
       "    <tr>\n",
       "      <th>218</th>\n",
       "      <td>219</td>\n",
       "      <td>Mateus</td>\n",
       "      <td>Almeida</td>\n",
       "      <td>mateus.almeida@email.com</td>\n",
       "      <td>(11) 6789-0123</td>\n",
       "      <td>Quadra 11</td>\n",
       "      <td>321</td>\n",
       "      <td>44348</td>\n",
       "    </tr>\n",
       "    <tr>\n",
       "      <th>219</th>\n",
       "      <td>220</td>\n",
       "      <td>Larissa</td>\n",
       "      <td>Gonçalves</td>\n",
       "      <td>larissa.goncalves@email.com</td>\n",
       "      <td>(11) 7890-1234</td>\n",
       "      <td>Praça dos Jardins</td>\n",
       "      <td>987</td>\n",
       "      <td>2021-03-18 00:00:00</td>\n",
       "    </tr>\n",
       "  </tbody>\n",
       "</table>\n",
       "</div>"
      ],
      "text/plain": [
       "     id_cliente      nome  sobrenome                        email  \\\n",
       "214         215   Marcelo      Silva      marcelo.silva@email.com   \n",
       "215         216     Aline     Santos       aline.santos@email.com   \n",
       "216         217     Lucas       Lima         lucas.lima@email.com   \n",
       "217         218  Isabella     Campos    isabella.campos@email.com   \n",
       "218         219    Mateus    Almeida     mateus.almeida@email.com   \n",
       "219         220   Larissa  Gonçalves  larissa.goncalves@email.com   \n",
       "\n",
       "           telefone                 endereço  numero        Data_Cadastro  \n",
       "214  (11) 2345-6789     Avenida dos Narcisos     654          18/10/20233  \n",
       "215  (11) 3456-7890     Travessa das Tulipas     321  2021-02-05 00:00:00  \n",
       "216  (11) 4567-8901        Rua dos Girassóis     987  2023-08-03 00:00:00  \n",
       "217  (11) 5678-9012  Alameda dos Crisântemos     654  2023-09-09 00:00:00  \n",
       "218  (11) 6789-0123                Quadra 11     321                44348  \n",
       "219  (11) 7890-1234        Praça dos Jardins     987  2021-03-18 00:00:00  "
      ]
     },
     "execution_count": 7,
     "metadata": {},
     "output_type": "execute_result"
    }
   ],
   "source": [
    "d2.tail(n=6)"
   ]
  },
  {
   "cell_type": "code",
   "execution_count": 8,
   "metadata": {},
   "outputs": [
    {
     "data": {
      "text/plain": [
       "dtype('O')"
      ]
     },
     "execution_count": 8,
     "metadata": {},
     "output_type": "execute_result"
    }
   ],
   "source": [
    "#verificando tipo\n",
    "tipo_coluna = d2['Data_Cadastro'].dtype\n",
    "tipo_coluna"
   ]
  },
  {
   "cell_type": "markdown",
   "metadata": {},
   "source": [
    "**CONVERSÃO DO TIPO PARA TRATAMENTO**"
   ]
  },
  {
   "cell_type": "code",
   "execution_count": 9,
   "metadata": {},
   "outputs": [
    {
     "data": {
      "text/plain": [
       "214            18/10/20233\n",
       "215    2021-02-05 00:00:00\n",
       "216    2023-08-03 00:00:00\n",
       "217    2023-09-09 00:00:00\n",
       "218                  44348\n",
       "219    2021-03-18 00:00:00\n",
       "Name: Data_Cadastro, dtype: object"
      ]
     },
     "execution_count": 9,
     "metadata": {},
     "output_type": "execute_result"
    }
   ],
   "source": [
    "#tipando para string, para realizar alterações\n",
    "if 'Data_Cadastro' in d2.columns:\n",
    "    d2['Data_Cadastro'] = d2['Data_Cadastro'].astype(str)\n",
    "d2['Data_Cadastro'].tail(n=6)    "
   ]
  },
  {
   "cell_type": "code",
   "execution_count": 10,
   "metadata": {},
   "outputs": [],
   "source": [
    "#aplicando formatação de string para uma lista de 18 caracteres, caso haja mais iremos apagar o último índice\n",
    "if 'Data_Cadastro' in d2.columns:\n",
    "    d2['Data_Cadastro'] = d2['Data_Cadastro'].apply(lambda x: x[:-1] if len(x) < 18 else x)"
   ]
  },
  {
   "cell_type": "code",
   "execution_count": 11,
   "metadata": {},
   "outputs": [
    {
     "data": {
      "text/html": [
       "<div>\n",
       "<style scoped>\n",
       "    .dataframe tbody tr th:only-of-type {\n",
       "        vertical-align: middle;\n",
       "    }\n",
       "\n",
       "    .dataframe tbody tr th {\n",
       "        vertical-align: top;\n",
       "    }\n",
       "\n",
       "    .dataframe thead th {\n",
       "        text-align: right;\n",
       "    }\n",
       "</style>\n",
       "<table border=\"1\" class=\"dataframe\">\n",
       "  <thead>\n",
       "    <tr style=\"text-align: right;\">\n",
       "      <th></th>\n",
       "      <th>id_cliente</th>\n",
       "      <th>nome</th>\n",
       "      <th>sobrenome</th>\n",
       "      <th>email</th>\n",
       "      <th>telefone</th>\n",
       "      <th>endereço</th>\n",
       "      <th>numero</th>\n",
       "      <th>Data_Cadastro</th>\n",
       "    </tr>\n",
       "  </thead>\n",
       "  <tbody>\n",
       "    <tr>\n",
       "      <th>214</th>\n",
       "      <td>215</td>\n",
       "      <td>Marcelo</td>\n",
       "      <td>Silva</td>\n",
       "      <td>marcelo.silva@email.com</td>\n",
       "      <td>(11) 2345-6789</td>\n",
       "      <td>Avenida dos Narcisos</td>\n",
       "      <td>654</td>\n",
       "      <td>18/10/2023</td>\n",
       "    </tr>\n",
       "    <tr>\n",
       "      <th>215</th>\n",
       "      <td>216</td>\n",
       "      <td>Aline</td>\n",
       "      <td>Santos</td>\n",
       "      <td>aline.santos@email.com</td>\n",
       "      <td>(11) 3456-7890</td>\n",
       "      <td>Travessa das Tulipas</td>\n",
       "      <td>321</td>\n",
       "      <td>2021-02-05 00:00:00</td>\n",
       "    </tr>\n",
       "    <tr>\n",
       "      <th>216</th>\n",
       "      <td>217</td>\n",
       "      <td>Lucas</td>\n",
       "      <td>Lima</td>\n",
       "      <td>lucas.lima@email.com</td>\n",
       "      <td>(11) 4567-8901</td>\n",
       "      <td>Rua dos Girassóis</td>\n",
       "      <td>987</td>\n",
       "      <td>2023-08-03 00:00:00</td>\n",
       "    </tr>\n",
       "    <tr>\n",
       "      <th>217</th>\n",
       "      <td>218</td>\n",
       "      <td>Isabella</td>\n",
       "      <td>Campos</td>\n",
       "      <td>isabella.campos@email.com</td>\n",
       "      <td>(11) 5678-9012</td>\n",
       "      <td>Alameda dos Crisântemos</td>\n",
       "      <td>654</td>\n",
       "      <td>2023-09-09 00:00:00</td>\n",
       "    </tr>\n",
       "    <tr>\n",
       "      <th>218</th>\n",
       "      <td>219</td>\n",
       "      <td>Mateus</td>\n",
       "      <td>Almeida</td>\n",
       "      <td>mateus.almeida@email.com</td>\n",
       "      <td>(11) 6789-0123</td>\n",
       "      <td>Quadra 11</td>\n",
       "      <td>321</td>\n",
       "      <td>4434</td>\n",
       "    </tr>\n",
       "    <tr>\n",
       "      <th>219</th>\n",
       "      <td>220</td>\n",
       "      <td>Larissa</td>\n",
       "      <td>Gonçalves</td>\n",
       "      <td>larissa.goncalves@email.com</td>\n",
       "      <td>(11) 7890-1234</td>\n",
       "      <td>Praça dos Jardins</td>\n",
       "      <td>987</td>\n",
       "      <td>2021-03-18 00:00:00</td>\n",
       "    </tr>\n",
       "  </tbody>\n",
       "</table>\n",
       "</div>"
      ],
      "text/plain": [
       "     id_cliente      nome  sobrenome                        email  \\\n",
       "214         215   Marcelo      Silva      marcelo.silva@email.com   \n",
       "215         216     Aline     Santos       aline.santos@email.com   \n",
       "216         217     Lucas       Lima         lucas.lima@email.com   \n",
       "217         218  Isabella     Campos    isabella.campos@email.com   \n",
       "218         219    Mateus    Almeida     mateus.almeida@email.com   \n",
       "219         220   Larissa  Gonçalves  larissa.goncalves@email.com   \n",
       "\n",
       "           telefone                 endereço  numero        Data_Cadastro  \n",
       "214  (11) 2345-6789     Avenida dos Narcisos     654           18/10/2023  \n",
       "215  (11) 3456-7890     Travessa das Tulipas     321  2021-02-05 00:00:00  \n",
       "216  (11) 4567-8901        Rua dos Girassóis     987  2023-08-03 00:00:00  \n",
       "217  (11) 5678-9012  Alameda dos Crisântemos     654  2023-09-09 00:00:00  \n",
       "218  (11) 6789-0123                Quadra 11     321                 4434  \n",
       "219  (11) 7890-1234        Praça dos Jardins     987  2021-03-18 00:00:00  "
      ]
     },
     "execution_count": 11,
     "metadata": {},
     "output_type": "execute_result"
    }
   ],
   "source": [
    "d2.tail(n=6)"
   ]
  },
  {
   "cell_type": "markdown",
   "metadata": {},
   "source": [
    "***APLICANDO A TIPAGEM FINAL***"
   ]
  },
  {
   "cell_type": "code",
   "execution_count": null,
   "metadata": {},
   "outputs": [],
   "source": [
    "#Aplicando a tipagem de data para o campo 'Data_Cadastro'\n",
    "for df in dataframes:\n",
    "    if 'Data_Cadastro' in df:\n",
    "        # Convertendo para datetime e formatando para 'YYYY-MM-DD'\n",
    "        df['Data_Cadastro'] = pd.to_datetime(df['Data_Cadastro'], errors='coerce').dt.date   #corece passa NAN, para casos onde não há correspondência\n",
    "        \n",
    "        # Preenchendo valores NaN com '31/12/2099' ---> outlier definido\n",
    "        df['Data_Cadastro'].fillna(pd.to_datetime('2099-12-31').date(), inplace=True)\n"
   ]
  },
  {
   "cell_type": "code",
   "execution_count": null,
   "metadata": {},
   "outputs": [],
   "source": [
    "#Aplicando a tipagem de data para o campo 'order_date'\n",
    "for df in dataframes:\n",
    "    if 'order_date' in df:\n",
    "        df['order_date'] = pd.to_datetime(df['order_date'], errors='coerce').dt.date\n",
    "         # Preenchendo valores NaN com '31/12/2099' ---> outlier definido\n",
    "        df['order_date'].fillna(value=pd.to_datetime('31/12/2099').date(), inplace=True)"
   ]
  },
  {
   "cell_type": "code",
   "execution_count": null,
   "metadata": {},
   "outputs": [],
   "source": [
    "#Formatando o campo 'unit_price', no qual continha strings\n",
    "for df in dataframes:\n",
    "    if 'unit_price' in df:\n",
    "        df['unit_price'] = pd.to_numeric(df['unit_price'], errors='coerce')\n",
    "        # *APLICANDO PREÇO = 0 PARA OS VALORES NULOS*\n",
    "        df['unit_price'].fillna(0, inplace=True)"
   ]
  },
  {
   "cell_type": "code",
   "execution_count": 17,
   "metadata": {},
   "outputs": [
    {
     "name": "stdout",
     "output_type": "stream",
     "text": [
      "<class 'pandas.core.frame.DataFrame'>\n",
      "RangeIndex: 100 entries, 0 to 99\n",
      "Data columns (total 6 columns):\n",
      " #   Column        Non-Null Count  Dtype \n",
      "---  ------        --------------  ----- \n",
      " 0   order_id      100 non-null    int64 \n",
      " 1   product_name  100 non-null    object\n",
      " 2   quantity      100 non-null    int64 \n",
      " 3   unit_price    100 non-null    int64 \n",
      " 4   cliente_id    100 non-null    int64 \n",
      " 5   order_date    100 non-null    object\n",
      "dtypes: int64(4), object(2)\n",
      "memory usage: 4.8+ KB\n"
     ]
    }
   ],
   "source": [
    "d3.info()"
   ]
  },
  {
   "cell_type": "code",
   "execution_count": 18,
   "metadata": {},
   "outputs": [
    {
     "data": {
      "text/html": [
       "<div>\n",
       "<style scoped>\n",
       "    .dataframe tbody tr th:only-of-type {\n",
       "        vertical-align: middle;\n",
       "    }\n",
       "\n",
       "    .dataframe tbody tr th {\n",
       "        vertical-align: top;\n",
       "    }\n",
       "\n",
       "    .dataframe thead th {\n",
       "        text-align: right;\n",
       "    }\n",
       "</style>\n",
       "<table border=\"1\" class=\"dataframe\">\n",
       "  <thead>\n",
       "    <tr style=\"text-align: right;\">\n",
       "      <th></th>\n",
       "      <th>id_cliente</th>\n",
       "      <th>nome</th>\n",
       "      <th>sobrenome</th>\n",
       "      <th>email</th>\n",
       "      <th>telefone</th>\n",
       "      <th>endereço</th>\n",
       "      <th>numero</th>\n",
       "      <th>Data_Cadastro</th>\n",
       "    </tr>\n",
       "  </thead>\n",
       "  <tbody>\n",
       "    <tr>\n",
       "      <th>210</th>\n",
       "      <td>211</td>\n",
       "      <td>Roberto</td>\n",
       "      <td>Campos</td>\n",
       "      <td>roberto.campos@email.com</td>\n",
       "      <td>(11) 8901-2345</td>\n",
       "      <td>Rua das Margaridas</td>\n",
       "      <td>987</td>\n",
       "      <td>2020-03-25</td>\n",
       "    </tr>\n",
       "    <tr>\n",
       "      <th>211</th>\n",
       "      <td>212</td>\n",
       "      <td>Ana</td>\n",
       "      <td>Cavalcanti</td>\n",
       "      <td>ana.cavalcanti@email.com</td>\n",
       "      <td>(11) 9012-3456</td>\n",
       "      <td>Avenida dos Cravos</td>\n",
       "      <td>654</td>\n",
       "      <td>2021-06-25</td>\n",
       "    </tr>\n",
       "    <tr>\n",
       "      <th>212</th>\n",
       "      <td>213</td>\n",
       "      <td>Renato</td>\n",
       "      <td>Fernandes</td>\n",
       "      <td>renato.fernandes@email.com</td>\n",
       "      <td>(11) 0123-4567</td>\n",
       "      <td>Alameda dos Lírios</td>\n",
       "      <td>321</td>\n",
       "      <td>2021-05-25</td>\n",
       "    </tr>\n",
       "    <tr>\n",
       "      <th>213</th>\n",
       "      <td>214</td>\n",
       "      <td>Priscila</td>\n",
       "      <td>Ferreira</td>\n",
       "      <td>priscila.ferreira@email.com</td>\n",
       "      <td>(11) 1234-5678</td>\n",
       "      <td>Rua das Violetas</td>\n",
       "      <td>987</td>\n",
       "      <td>2022-12-13</td>\n",
       "    </tr>\n",
       "    <tr>\n",
       "      <th>214</th>\n",
       "      <td>215</td>\n",
       "      <td>Marcelo</td>\n",
       "      <td>Silva</td>\n",
       "      <td>marcelo.silva@email.com</td>\n",
       "      <td>(11) 2345-6789</td>\n",
       "      <td>Avenida dos Narcisos</td>\n",
       "      <td>654</td>\n",
       "      <td>2099-12-31</td>\n",
       "    </tr>\n",
       "    <tr>\n",
       "      <th>215</th>\n",
       "      <td>216</td>\n",
       "      <td>Aline</td>\n",
       "      <td>Santos</td>\n",
       "      <td>aline.santos@email.com</td>\n",
       "      <td>(11) 3456-7890</td>\n",
       "      <td>Travessa das Tulipas</td>\n",
       "      <td>321</td>\n",
       "      <td>2021-02-05</td>\n",
       "    </tr>\n",
       "    <tr>\n",
       "      <th>216</th>\n",
       "      <td>217</td>\n",
       "      <td>Lucas</td>\n",
       "      <td>Lima</td>\n",
       "      <td>lucas.lima@email.com</td>\n",
       "      <td>(11) 4567-8901</td>\n",
       "      <td>Rua dos Girassóis</td>\n",
       "      <td>987</td>\n",
       "      <td>2023-08-03</td>\n",
       "    </tr>\n",
       "    <tr>\n",
       "      <th>217</th>\n",
       "      <td>218</td>\n",
       "      <td>Isabella</td>\n",
       "      <td>Campos</td>\n",
       "      <td>isabella.campos@email.com</td>\n",
       "      <td>(11) 5678-9012</td>\n",
       "      <td>Alameda dos Crisântemos</td>\n",
       "      <td>654</td>\n",
       "      <td>2023-09-09</td>\n",
       "    </tr>\n",
       "    <tr>\n",
       "      <th>218</th>\n",
       "      <td>219</td>\n",
       "      <td>Mateus</td>\n",
       "      <td>Almeida</td>\n",
       "      <td>mateus.almeida@email.com</td>\n",
       "      <td>(11) 6789-0123</td>\n",
       "      <td>Quadra 11</td>\n",
       "      <td>321</td>\n",
       "      <td>2099-12-31</td>\n",
       "    </tr>\n",
       "    <tr>\n",
       "      <th>219</th>\n",
       "      <td>220</td>\n",
       "      <td>Larissa</td>\n",
       "      <td>Gonçalves</td>\n",
       "      <td>larissa.goncalves@email.com</td>\n",
       "      <td>(11) 7890-1234</td>\n",
       "      <td>Praça dos Jardins</td>\n",
       "      <td>987</td>\n",
       "      <td>2021-03-18</td>\n",
       "    </tr>\n",
       "  </tbody>\n",
       "</table>\n",
       "</div>"
      ],
      "text/plain": [
       "     id_cliente      nome   sobrenome                        email  \\\n",
       "210         211   Roberto      Campos     roberto.campos@email.com   \n",
       "211         212       Ana  Cavalcanti     ana.cavalcanti@email.com   \n",
       "212         213    Renato   Fernandes   renato.fernandes@email.com   \n",
       "213         214  Priscila    Ferreira  priscila.ferreira@email.com   \n",
       "214         215   Marcelo       Silva      marcelo.silva@email.com   \n",
       "215         216     Aline      Santos       aline.santos@email.com   \n",
       "216         217     Lucas        Lima         lucas.lima@email.com   \n",
       "217         218  Isabella      Campos    isabella.campos@email.com   \n",
       "218         219    Mateus     Almeida     mateus.almeida@email.com   \n",
       "219         220   Larissa   Gonçalves  larissa.goncalves@email.com   \n",
       "\n",
       "           telefone                 endereço  numero Data_Cadastro  \n",
       "210  (11) 8901-2345       Rua das Margaridas     987    2020-03-25  \n",
       "211  (11) 9012-3456       Avenida dos Cravos     654    2021-06-25  \n",
       "212  (11) 0123-4567       Alameda dos Lírios     321    2021-05-25  \n",
       "213  (11) 1234-5678         Rua das Violetas     987    2022-12-13  \n",
       "214  (11) 2345-6789     Avenida dos Narcisos     654    2099-12-31  \n",
       "215  (11) 3456-7890     Travessa das Tulipas     321    2021-02-05  \n",
       "216  (11) 4567-8901        Rua dos Girassóis     987    2023-08-03  \n",
       "217  (11) 5678-9012  Alameda dos Crisântemos     654    2023-09-09  \n",
       "218  (11) 6789-0123                Quadra 11     321    2099-12-31  \n",
       "219  (11) 7890-1234        Praça dos Jardins     987    2021-03-18  "
      ]
     },
     "execution_count": 18,
     "metadata": {},
     "output_type": "execute_result"
    }
   ],
   "source": [
    "d2.tail(n=10)"
   ]
  },
  {
   "cell_type": "code",
   "execution_count": 20,
   "metadata": {},
   "outputs": [
    {
     "name": "stdout",
     "output_type": "stream",
     "text": [
      "<class 'pandas.core.frame.DataFrame'>\n",
      "RangeIndex: 166 entries, 1 to 166\n",
      "Data columns (total 6 columns):\n",
      " #   Column        Non-Null Count  Dtype  \n",
      "---  ------        --------------  -----  \n",
      " 0   order_id      166 non-null    object \n",
      " 1   product_name  166 non-null    object \n",
      " 2   quantity      166 non-null    object \n",
      " 3   unit_price    166 non-null    float64\n",
      " 4   cliente_id    166 non-null    object \n",
      " 5   order_date    166 non-null    object \n",
      "dtypes: float64(1), object(5)\n",
      "memory usage: 7.9+ KB\n"
     ]
    }
   ],
   "source": [
    "d4.info()"
   ]
  },
  {
   "cell_type": "code",
   "execution_count": 320,
   "metadata": {},
   "outputs": [],
   "source": [
    "# d2.to_excel(\"C:\\\\Users\\\\jhoe.hashimoto\\\\Desktop\\\\v2dados_teste\\\\bronze\\\\tested2.xlsx\", index=False)\n",
    "# d4.to_excel(\"C:\\\\Users\\\\jhoe.hashimoto\\\\Desktop\\\\v2dados_teste\\\\bronze\\\\tested4.xlsx\", index=False)"
   ]
  },
  {
   "cell_type": "markdown",
   "metadata": {},
   "source": [
    "**PADRONIZAÇÃO NOME COLUNAS**"
   ]
  },
  {
   "cell_type": "code",
   "execution_count": 21,
   "metadata": {},
   "outputs": [],
   "source": [
    "#RENOMEIO E PADRONIZAÇÃO DAS COLUNAS ID_CLIENTE\n",
    "for df in dataframes:\n",
    "    if 'cliente_id' in df.columns:\n",
    "        df.rename(columns={'cliente_id': 'id_cliente'}, inplace=True)\n",
    "        "
   ]
  },
  {
   "cell_type": "markdown",
   "metadata": {},
   "source": [
    "***COMPARAÇÃO DO TIPO DE DADO EM CADA VERSÃO DE DATAFRAME CORRESPONDENTE***"
   ]
  },
  {
   "cell_type": "code",
   "execution_count": 22,
   "metadata": {},
   "outputs": [
    {
     "data": {
      "text/html": [
       "<div>\n",
       "<style scoped>\n",
       "    .dataframe tbody tr th:only-of-type {\n",
       "        vertical-align: middle;\n",
       "    }\n",
       "\n",
       "    .dataframe tbody tr th {\n",
       "        vertical-align: top;\n",
       "    }\n",
       "\n",
       "    .dataframe thead th {\n",
       "        text-align: right;\n",
       "    }\n",
       "</style>\n",
       "<table border=\"1\" class=\"dataframe\">\n",
       "  <thead>\n",
       "    <tr style=\"text-align: right;\">\n",
       "      <th></th>\n",
       "      <th>customer1</th>\n",
       "      <th>customer2</th>\n",
       "      <th>Mesmo tipo</th>\n",
       "      <th>ColunaNova?</th>\n",
       "    </tr>\n",
       "  </thead>\n",
       "  <tbody>\n",
       "    <tr>\n",
       "      <th>Data_Cadastro</th>\n",
       "      <td>NaN</td>\n",
       "      <td>object</td>\n",
       "      <td>False</td>\n",
       "      <td>NovaColuna</td>\n",
       "    </tr>\n",
       "    <tr>\n",
       "      <th>email</th>\n",
       "      <td>object</td>\n",
       "      <td>object</td>\n",
       "      <td>True</td>\n",
       "      <td>Presente</td>\n",
       "    </tr>\n",
       "    <tr>\n",
       "      <th>endereço</th>\n",
       "      <td>object</td>\n",
       "      <td>object</td>\n",
       "      <td>True</td>\n",
       "      <td>Presente</td>\n",
       "    </tr>\n",
       "    <tr>\n",
       "      <th>id_cliente</th>\n",
       "      <td>int64</td>\n",
       "      <td>int64</td>\n",
       "      <td>True</td>\n",
       "      <td>Presente</td>\n",
       "    </tr>\n",
       "    <tr>\n",
       "      <th>nome</th>\n",
       "      <td>object</td>\n",
       "      <td>object</td>\n",
       "      <td>True</td>\n",
       "      <td>Presente</td>\n",
       "    </tr>\n",
       "    <tr>\n",
       "      <th>numero</th>\n",
       "      <td>int64</td>\n",
       "      <td>int64</td>\n",
       "      <td>True</td>\n",
       "      <td>Presente</td>\n",
       "    </tr>\n",
       "    <tr>\n",
       "      <th>sobrenome</th>\n",
       "      <td>object</td>\n",
       "      <td>object</td>\n",
       "      <td>True</td>\n",
       "      <td>Presente</td>\n",
       "    </tr>\n",
       "    <tr>\n",
       "      <th>telefone</th>\n",
       "      <td>object</td>\n",
       "      <td>object</td>\n",
       "      <td>True</td>\n",
       "      <td>Presente</td>\n",
       "    </tr>\n",
       "  </tbody>\n",
       "</table>\n",
       "</div>"
      ],
      "text/plain": [
       "              customer1 customer2  Mesmo tipo ColunaNova?\n",
       "Data_Cadastro       NaN    object       False  NovaColuna\n",
       "email            object    object        True    Presente\n",
       "endereço         object    object        True    Presente\n",
       "id_cliente        int64     int64        True    Presente\n",
       "nome             object    object        True    Presente\n",
       "numero            int64     int64        True    Presente\n",
       "sobrenome        object    object        True    Presente\n",
       "telefone         object    object        True    Presente"
      ]
     },
     "execution_count": 22,
     "metadata": {},
     "output_type": "execute_result"
    }
   ],
   "source": [
    "customer1, customer2, sales1, sales2= dataframes\n",
    "\n",
    "\n",
    "dtypes1 = customer1.dtypes\n",
    "dtypes2 = customer2.dtypes\n",
    "\n",
    "# Criando um DataFrame de comparação para todas as colunas\n",
    "comparison_customer = pd.DataFrame({\n",
    "    'customer1': dtypes1,\n",
    "    'customer2': dtypes2\n",
    "})\n",
    "comparison_customer['Mesmo tipo'] = comparison_customer['customer1'] == comparison_customer['customer2']\n",
    "comparison_customer['ColunaNova?'] = comparison_customer.apply(\n",
    "    lambda row: 'Nova Coluna' if pd.isnull(row['customer2']) else ('NovaColuna' if pd.isnull(row['customer1']) else 'Presente'), axis=1\n",
    ")\n",
    "comparison_customer"
   ]
  },
  {
   "cell_type": "markdown",
   "metadata": {},
   "source": [
    "***CONVERSÃO DA COLUNA 'Data_Cadastro' PARA O TIPO DATE***"
   ]
  },
  {
   "cell_type": "code",
   "execution_count": 23,
   "metadata": {},
   "outputs": [],
   "source": [
    "customer2['Data_Cadastro'] = pd.to_datetime(customer2['Data_Cadastro'], format='%Y-%m-%d')"
   ]
  },
  {
   "cell_type": "code",
   "execution_count": 24,
   "metadata": {},
   "outputs": [
    {
     "data": {
      "text/html": [
       "<div>\n",
       "<style scoped>\n",
       "    .dataframe tbody tr th:only-of-type {\n",
       "        vertical-align: middle;\n",
       "    }\n",
       "\n",
       "    .dataframe tbody tr th {\n",
       "        vertical-align: top;\n",
       "    }\n",
       "\n",
       "    .dataframe thead th {\n",
       "        text-align: right;\n",
       "    }\n",
       "</style>\n",
       "<table border=\"1\" class=\"dataframe\">\n",
       "  <thead>\n",
       "    <tr style=\"text-align: right;\">\n",
       "      <th></th>\n",
       "      <th>sales1</th>\n",
       "      <th>sales2</th>\n",
       "      <th>Mesmo tipo</th>\n",
       "      <th>ColunaNova?</th>\n",
       "    </tr>\n",
       "  </thead>\n",
       "  <tbody>\n",
       "    <tr>\n",
       "      <th>order_id</th>\n",
       "      <td>int64</td>\n",
       "      <td>object</td>\n",
       "      <td>False</td>\n",
       "      <td>Presente</td>\n",
       "    </tr>\n",
       "    <tr>\n",
       "      <th>product_name</th>\n",
       "      <td>object</td>\n",
       "      <td>object</td>\n",
       "      <td>True</td>\n",
       "      <td>Presente</td>\n",
       "    </tr>\n",
       "    <tr>\n",
       "      <th>quantity</th>\n",
       "      <td>int64</td>\n",
       "      <td>object</td>\n",
       "      <td>False</td>\n",
       "      <td>Presente</td>\n",
       "    </tr>\n",
       "    <tr>\n",
       "      <th>unit_price</th>\n",
       "      <td>int64</td>\n",
       "      <td>float64</td>\n",
       "      <td>False</td>\n",
       "      <td>Presente</td>\n",
       "    </tr>\n",
       "    <tr>\n",
       "      <th>id_cliente</th>\n",
       "      <td>int64</td>\n",
       "      <td>object</td>\n",
       "      <td>False</td>\n",
       "      <td>Presente</td>\n",
       "    </tr>\n",
       "    <tr>\n",
       "      <th>order_date</th>\n",
       "      <td>object</td>\n",
       "      <td>object</td>\n",
       "      <td>True</td>\n",
       "      <td>Presente</td>\n",
       "    </tr>\n",
       "  </tbody>\n",
       "</table>\n",
       "</div>"
      ],
      "text/plain": [
       "              sales1   sales2  Mesmo tipo ColunaNova?\n",
       "order_id       int64   object       False    Presente\n",
       "product_name  object   object        True    Presente\n",
       "quantity       int64   object       False    Presente\n",
       "unit_price     int64  float64       False    Presente\n",
       "id_cliente     int64   object       False    Presente\n",
       "order_date    object   object        True    Presente"
      ]
     },
     "execution_count": 24,
     "metadata": {},
     "output_type": "execute_result"
    }
   ],
   "source": [
    "dtypes3 = sales1.dtypes\n",
    "dtypes4 = sales2.dtypes\n",
    "\n",
    "# Criando um DataFrame de comparação para todas as colunas\n",
    "comparison_customer2 = pd.DataFrame({\n",
    "    'sales1': dtypes3,\n",
    "    'sales2': dtypes4\n",
    "})\n",
    "comparison_customer2['Mesmo tipo'] = comparison_customer2['sales1'] == comparison_customer2['sales2']\n",
    "comparison_customer2['ColunaNova?'] = comparison_customer2.apply(\n",
    "    lambda row: 'Nova Coluna' if pd.isnull(row['sales2']) else ('NovaColuna' if pd.isnull(row['sales1']) else 'Presente'), axis=1\n",
    ")\n",
    "comparison_customer2"
   ]
  },
  {
   "cell_type": "markdown",
   "metadata": {},
   "source": [
    "***CONVERSÃO DOS TIPOS NUMÉRICOS PARA A TIPAGEM CORRETA***"
   ]
  },
  {
   "cell_type": "code",
   "execution_count": 25,
   "metadata": {},
   "outputs": [],
   "source": [
    "sales1['unit_price'] = sales1['unit_price'].astype('float64')\n",
    "sales1['order_date'] = pd.to_datetime(sales1['order_date'], format='%Y-%m-%d')\n",
    "\n",
    "\n",
    "sales2['order_id'] = sales2['order_id'].astype('int64')\n",
    "sales2['quantity'] = sales2['quantity'].astype('int64')\n",
    "sales2['id_cliente'] = sales2['id_cliente'].astype('int64')\n",
    "sales2['order_date'] = pd.to_datetime(sales2['order_date'], format='%Y-%m-%d')\n"
   ]
  },
  {
   "cell_type": "markdown",
   "metadata": {},
   "source": [
    "***PRINTANDO RESULTADOS DA OPERAÇÃO***"
   ]
  },
  {
   "cell_type": "code",
   "execution_count": 26,
   "metadata": {},
   "outputs": [
    {
     "data": {
      "text/html": [
       "<div>\n",
       "<style scoped>\n",
       "    .dataframe tbody tr th:only-of-type {\n",
       "        vertical-align: middle;\n",
       "    }\n",
       "\n",
       "    .dataframe tbody tr th {\n",
       "        vertical-align: top;\n",
       "    }\n",
       "\n",
       "    .dataframe thead th {\n",
       "        text-align: right;\n",
       "    }\n",
       "</style>\n",
       "<table border=\"1\" class=\"dataframe\">\n",
       "  <thead>\n",
       "    <tr style=\"text-align: right;\">\n",
       "      <th></th>\n",
       "      <th>customer1</th>\n",
       "      <th>customer2</th>\n",
       "      <th>Mesmo tipo</th>\n",
       "      <th>ColunaNova?</th>\n",
       "    </tr>\n",
       "  </thead>\n",
       "  <tbody>\n",
       "    <tr>\n",
       "      <th>Data_Cadastro</th>\n",
       "      <td>NaN</td>\n",
       "      <td>object</td>\n",
       "      <td>False</td>\n",
       "      <td>NovaColuna</td>\n",
       "    </tr>\n",
       "    <tr>\n",
       "      <th>email</th>\n",
       "      <td>object</td>\n",
       "      <td>object</td>\n",
       "      <td>True</td>\n",
       "      <td>Presente</td>\n",
       "    </tr>\n",
       "    <tr>\n",
       "      <th>endereço</th>\n",
       "      <td>object</td>\n",
       "      <td>object</td>\n",
       "      <td>True</td>\n",
       "      <td>Presente</td>\n",
       "    </tr>\n",
       "    <tr>\n",
       "      <th>id_cliente</th>\n",
       "      <td>int64</td>\n",
       "      <td>int64</td>\n",
       "      <td>True</td>\n",
       "      <td>Presente</td>\n",
       "    </tr>\n",
       "    <tr>\n",
       "      <th>nome</th>\n",
       "      <td>object</td>\n",
       "      <td>object</td>\n",
       "      <td>True</td>\n",
       "      <td>Presente</td>\n",
       "    </tr>\n",
       "    <tr>\n",
       "      <th>numero</th>\n",
       "      <td>int64</td>\n",
       "      <td>int64</td>\n",
       "      <td>True</td>\n",
       "      <td>Presente</td>\n",
       "    </tr>\n",
       "    <tr>\n",
       "      <th>sobrenome</th>\n",
       "      <td>object</td>\n",
       "      <td>object</td>\n",
       "      <td>True</td>\n",
       "      <td>Presente</td>\n",
       "    </tr>\n",
       "    <tr>\n",
       "      <th>telefone</th>\n",
       "      <td>object</td>\n",
       "      <td>object</td>\n",
       "      <td>True</td>\n",
       "      <td>Presente</td>\n",
       "    </tr>\n",
       "  </tbody>\n",
       "</table>\n",
       "</div>"
      ],
      "text/plain": [
       "              customer1 customer2  Mesmo tipo ColunaNova?\n",
       "Data_Cadastro       NaN    object       False  NovaColuna\n",
       "email            object    object        True    Presente\n",
       "endereço         object    object        True    Presente\n",
       "id_cliente        int64     int64        True    Presente\n",
       "nome             object    object        True    Presente\n",
       "numero            int64     int64        True    Presente\n",
       "sobrenome        object    object        True    Presente\n",
       "telefone         object    object        True    Presente"
      ]
     },
     "execution_count": 26,
     "metadata": {},
     "output_type": "execute_result"
    }
   ],
   "source": [
    "comparison_customer"
   ]
  },
  {
   "cell_type": "code",
   "execution_count": 27,
   "metadata": {},
   "outputs": [
    {
     "data": {
      "text/html": [
       "<div>\n",
       "<style scoped>\n",
       "    .dataframe tbody tr th:only-of-type {\n",
       "        vertical-align: middle;\n",
       "    }\n",
       "\n",
       "    .dataframe tbody tr th {\n",
       "        vertical-align: top;\n",
       "    }\n",
       "\n",
       "    .dataframe thead th {\n",
       "        text-align: right;\n",
       "    }\n",
       "</style>\n",
       "<table border=\"1\" class=\"dataframe\">\n",
       "  <thead>\n",
       "    <tr style=\"text-align: right;\">\n",
       "      <th></th>\n",
       "      <th>sales1</th>\n",
       "      <th>sales2</th>\n",
       "      <th>Mesmo tipo</th>\n",
       "      <th>ColunaNova?</th>\n",
       "    </tr>\n",
       "  </thead>\n",
       "  <tbody>\n",
       "    <tr>\n",
       "      <th>order_id</th>\n",
       "      <td>int64</td>\n",
       "      <td>object</td>\n",
       "      <td>False</td>\n",
       "      <td>Presente</td>\n",
       "    </tr>\n",
       "    <tr>\n",
       "      <th>product_name</th>\n",
       "      <td>object</td>\n",
       "      <td>object</td>\n",
       "      <td>True</td>\n",
       "      <td>Presente</td>\n",
       "    </tr>\n",
       "    <tr>\n",
       "      <th>quantity</th>\n",
       "      <td>int64</td>\n",
       "      <td>object</td>\n",
       "      <td>False</td>\n",
       "      <td>Presente</td>\n",
       "    </tr>\n",
       "    <tr>\n",
       "      <th>unit_price</th>\n",
       "      <td>int64</td>\n",
       "      <td>float64</td>\n",
       "      <td>False</td>\n",
       "      <td>Presente</td>\n",
       "    </tr>\n",
       "    <tr>\n",
       "      <th>id_cliente</th>\n",
       "      <td>int64</td>\n",
       "      <td>object</td>\n",
       "      <td>False</td>\n",
       "      <td>Presente</td>\n",
       "    </tr>\n",
       "    <tr>\n",
       "      <th>order_date</th>\n",
       "      <td>object</td>\n",
       "      <td>object</td>\n",
       "      <td>True</td>\n",
       "      <td>Presente</td>\n",
       "    </tr>\n",
       "  </tbody>\n",
       "</table>\n",
       "</div>"
      ],
      "text/plain": [
       "              sales1   sales2  Mesmo tipo ColunaNova?\n",
       "order_id       int64   object       False    Presente\n",
       "product_name  object   object        True    Presente\n",
       "quantity       int64   object       False    Presente\n",
       "unit_price     int64  float64       False    Presente\n",
       "id_cliente     int64   object       False    Presente\n",
       "order_date    object   object        True    Presente"
      ]
     },
     "execution_count": 27,
     "metadata": {},
     "output_type": "execute_result"
    }
   ],
   "source": [
    "comparison_customer2"
   ]
  },
  {
   "cell_type": "code",
   "execution_count": 28,
   "metadata": {},
   "outputs": [],
   "source": [
    "customer_final1, customer_final2, sales_final1, sales_final2 = dataframes"
   ]
  },
  {
   "cell_type": "markdown",
   "metadata": {},
   "source": [
    "***SALVANDO OS DADOS EM PARQUET***"
   ]
  },
  {
   "cell_type": "code",
   "execution_count": null,
   "metadata": {},
   "outputs": [],
   "source": [
    "path_excel = 'C:\\\\Users\\\\jhoe.hashimoto\\\\Desktop\\\\v2dados_teste\\\\bronze\\\\xlsx'\n",
    "path_parquet = 'C:\\\\Users\\\\jhoe.hashimoto\\\\Desktop\\\\v2dados_teste\\\\bronze\\\\parquet'\n",
    "\n",
    "\n",
    "os.makedirs(path_excel, exist_ok=True)\n",
    "\n",
    "nomes_arquivos = ['customer_final1', 'customer_final2', 'sales_final1', 'sales_final2']\n",
    "\n",
    "# Lista de dataframes\n",
    "dataframes = [customer_final1, customer_final2, sales_final1, sales_final2]\n",
    "\n",
    "# Salvando os dataframes\n",
    "for nome, df in zip(nomes_arquivos, dataframes):\n",
    "    nome_arquivo_excel = os.path.join(path_excel, f'{nome}.xlsx')\n",
    "    nome_arquivo_parquet = os.path.join(path_parquet, f'{nome}.parquet')\n",
    "    \n",
    "    # Salvando em Excel\n",
    "    df.to_excel(nome_arquivo_excel, index=False)\n",
    "    \n",
    "    # Salvando em Parquet\n",
    "    df.to_parquet(nome_arquivo_parquet, index=False)\n",
    "    \n",
    "    print(f'{nome_arquivo_excel} e {nome_arquivo_parquet} criados com sucesso.')"
   ]
  },
  {
   "cell_type": "markdown",
   "metadata": {},
   "source": [
    "*CRIANDO BACKUP DA PASTA DO PROJETO*"
   ]
  },
  {
   "cell_type": "code",
   "execution_count": 1,
   "metadata": {},
   "outputs": [
    {
     "name": "stdout",
     "output_type": "stream",
     "text": [
      "Backup criado com sucesso: C:\\Users\\jhoe.hashimoto\\Desktop\\backup_v2dados_teste_20240620_092811\n"
     ]
    }
   ],
   "source": [
    "import os\n",
    "import shutil\n",
    "from datetime import datetime\n",
    "\n",
    "source_folder = 'C:\\\\Users\\\\jhoe.hashimoto\\\\Desktop\\\\v2dados_teste'\n",
    "\n",
    "backup_folder = f'C:\\\\Users\\\\jhoe.hashimoto\\\\Desktop\\\\backup_v2dados_teste_{datetime.now().strftime(\"%Y%m%d_%H%M%S\")}'\n",
    "\n",
    "def create_backup(source, backup):\n",
    "    try:\n",
    "        # Copiando a pasta\n",
    "        shutil.copytree(source, backup)\n",
    "        print(f'Backup criado com sucesso: {backup}')\n",
    "    except Exception as e:\n",
    "        print(f'Erro ao criar backup: {e}')\n",
    "\n",
    "# Criando backup\n",
    "create_backup(source_folder, backup_folder)"
   ]
  }
 ],
 "metadata": {
  "kernelspec": {
   "display_name": ".venv",
   "language": "python",
   "name": "python3"
  },
  "language_info": {
   "codemirror_mode": {
    "name": "ipython",
    "version": 3
   },
   "file_extension": ".py",
   "mimetype": "text/x-python",
   "name": "python",
   "nbconvert_exporter": "python",
   "pygments_lexer": "ipython3",
   "version": "3.12.4"
  }
 },
 "nbformat": 4,
 "nbformat_minor": 2
}
