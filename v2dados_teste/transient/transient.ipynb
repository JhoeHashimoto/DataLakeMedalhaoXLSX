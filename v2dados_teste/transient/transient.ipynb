{
 "cells": [
  {
   "cell_type": "markdown",
   "metadata": {},
   "source": [
    "# CARGA DOS DADOS BRUTOS"
   ]
  },
  {
   "cell_type": "code",
   "execution_count": 2,
   "metadata": {},
   "outputs": [
    {
     "name": "stdout",
     "output_type": "stream",
     "text": [
      "customer_data.xlsx copiado para C:\\Users\\jhoe.hashimoto\\Desktop\\v2dados_teste\\transient\n",
      "customer_data_erro1.xlsx copiado para C:\\Users\\jhoe.hashimoto\\Desktop\\v2dados_teste\\transient\n",
      "sales_data.csv.xlsx copiado para C:\\Users\\jhoe.hashimoto\\Desktop\\v2dados_teste\\transient\n",
      "sales_data_erro1.csv.xlsx copiado para C:\\Users\\jhoe.hashimoto\\Desktop\\v2dados_teste\\transient\n"
     ]
    }
   ],
   "source": [
    "import os\n",
    "import shutil\n",
    "\n",
    "origem = 'C:\\\\Users\\\\jhoe.hashimoto\\\\Desktop\\\\v2dados_teste'\n",
    "destino = 'C:\\\\Users\\\\jhoe.hashimoto\\\\Desktop\\\\v2dados_teste\\\\transient'\n",
    "\n",
    "\n",
    "# Percorrendo todos os arquivos no diretório de origem\n",
    "for nome_arquivo in os.listdir(origem):\n",
    "    caminho_arquivo_origem = os.path.join(origem, nome_arquivo)\n",
    "    caminho_arquivo_destino = os.path.join(destino, nome_arquivo)\n",
    "    \n",
    "    # Checando se é um arquivo (ignora diretórios)\n",
    "    if os.path.isfile(caminho_arquivo_origem):\n",
    "        # Copie o arquivo para o diretório de destino\n",
    "        shutil.copy2(caminho_arquivo_origem, caminho_arquivo_destino)\n",
    "        print(f'{nome_arquivo} copiado para {destino}')"
   ]
  }
 ],
 "metadata": {
  "kernelspec": {
   "display_name": ".venv",
   "language": "python",
   "name": "python3"
  },
  "language_info": {
   "codemirror_mode": {
    "name": "ipython",
    "version": 3
   },
   "file_extension": ".py",
   "mimetype": "text/x-python",
   "name": "python",
   "nbconvert_exporter": "python",
   "pygments_lexer": "ipython3",
   "version": "3.12.4"
  }
 },
 "nbformat": 4,
 "nbformat_minor": 2
}
