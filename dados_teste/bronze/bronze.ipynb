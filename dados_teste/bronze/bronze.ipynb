{
 "cells": [
  {
   "cell_type": "code",
   "execution_count": null,
   "metadata": {},
   "outputs": [],
   "source": [
    "import pandas as pd\n",
    "!pip install pyarrow"
   ]
  },
  {
   "cell_type": "markdown",
   "metadata": {},
   "source": [
    "*INICIANDO A TRANSFORMAÇÃO DOS ARQUIVOS PARA PARQUET*"
   ]
  },
  {
   "cell_type": "code",
   "execution_count": 2,
   "metadata": {},
   "outputs": [],
   "source": [
    "#trazendo os dados da land\n",
    "path_customer_origin = 'C:\\\\Users\\\\jhoe.hashimoto\\\\Desktop\\\\dados_teste\\\\land\\\\customer_data.xlsx'\n",
    "path_sales_origin = 'C:\\\\Users\\\\jhoe.hashimoto\\\\Desktop\\\\dados_teste\\\\land\\\\sales_data.csv.xlsx'\n",
    "\n",
    "\n",
    "#criando o path destino\n",
    "path_bronze_customer_destino = 'C:\\\\Users\\\\jhoe.hashimoto\\\\Desktop\\\\dados_teste\\\\bronze\\\\customer_data.parquet'\n",
    "path_bronze_sales_destino = 'C:\\\\Users\\\\jhoe.hashimoto\\\\Desktop\\\\dados_teste\\\\bronze\\\\sales_data.parquet'"
   ]
  },
  {
   "cell_type": "code",
   "execution_count": 3,
   "metadata": {},
   "outputs": [],
   "source": [
    "#leitura datasets\n",
    "df_customer = pd.read_excel(path_customer_origin)\n",
    "df_sales = pd.read_excel(path_sales_origin)"
   ]
  },
  {
   "cell_type": "code",
   "execution_count": 4,
   "metadata": {},
   "outputs": [],
   "source": [
    "#salvando os dados em parquet na camada bronze \n",
    "df_customer.to_parquet(path_bronze_customer_destino)\n",
    "df_sales.to_parquet(path_bronze_sales_destino)\n"
   ]
  }
 ],
 "metadata": {
  "kernelspec": {
   "display_name": ".venv",
   "language": "python",
   "name": "python3"
  },
  "language_info": {
   "codemirror_mode": {
    "name": "ipython",
    "version": 3
   },
   "file_extension": ".py",
   "mimetype": "text/x-python",
   "name": "python",
   "nbconvert_exporter": "python",
   "pygments_lexer": "ipython3",
   "version": "3.12.4"
  }
 },
 "nbformat": 4,
 "nbformat_minor": 2
}
