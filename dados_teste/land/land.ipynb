{
 "cells": [
  {
   "cell_type": "code",
   "execution_count": 1,
   "metadata": {},
   "outputs": [],
   "source": [
    "import pandas as pd\n",
    "import shutil"
   ]
  },
  {
   "cell_type": "markdown",
   "metadata": {},
   "source": [
    "*IMPORTANDO OS DADOS BRUTOS PARA A LAND*"
   ]
  },
  {
   "cell_type": "code",
   "execution_count": 2,
   "metadata": {},
   "outputs": [],
   "source": [
    "#path de origem\n",
    "path_customer = 'C:\\\\Users\\\\jhoe.hashimoto\\\\Desktop\\\\dados_teste\\\\customer_data.xlsx'\n",
    "path_sales = 'C:\\\\Users\\\\jhoe.hashimoto\\\\Desktop\\\\dados_teste\\\\sales_data.csv.xlsx'\n",
    "\n",
    "#path destino\n",
    "path_land = 'C:\\\\Users\\\\jhoe.hashimoto\\\\Desktop\\\\dados_teste\\\\land\\\\'"
   ]
  },
  {
   "cell_type": "code",
   "execution_count": 3,
   "metadata": {},
   "outputs": [
    {
     "data": {
      "text/plain": [
       "'C:\\\\Users\\\\jhoe.hashimoto\\\\Desktop\\\\dados_teste\\\\land\\\\sales_data.csv.xlsx'"
      ]
     },
     "execution_count": 3,
     "metadata": {},
     "output_type": "execute_result"
    }
   ],
   "source": [
    "#copiando o arquivo e enviando para o path destino\n",
    "\n",
    "shutil.copy(path_customer, path_land)\n",
    "shutil.copy(path_sales, path_land)"
   ]
  }
 ],
 "metadata": {
  "kernelspec": {
   "display_name": ".venv",
   "language": "python",
   "name": "python3"
  },
  "language_info": {
   "codemirror_mode": {
    "name": "ipython",
    "version": 3
   },
   "file_extension": ".py",
   "mimetype": "text/x-python",
   "name": "python",
   "nbconvert_exporter": "python",
   "pygments_lexer": "ipython3",
   "version": "3.12.4"
  }
 },
 "nbformat": 4,
 "nbformat_minor": 2
}
