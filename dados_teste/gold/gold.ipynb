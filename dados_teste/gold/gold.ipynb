{
 "cells": [
  {
   "cell_type": "code",
   "execution_count": 1,
   "metadata": {},
   "outputs": [
    {
     "name": "stdout",
     "output_type": "stream",
     "text": [
      "Requirement already satisfied: mysql-connector-python in c:\\users\\jhoe.hashimoto\\desktop\\dados_teste\\.venv\\lib\\site-packages (8.4.0)\n"
     ]
    }
   ],
   "source": [
    "import pandas as pd\n",
    "!pip install mysql-connector-python\n",
    "from mysql.connector import connect\n",
    "import mysql.connector\n",
    "from mysql.connector import errorcode\n"
   ]
  },
  {
   "cell_type": "markdown",
   "metadata": {},
   "source": [
    "*CONEXÃO COM O MYSQL*"
   ]
  },
  {
   "cell_type": "code",
   "execution_count": 6,
   "metadata": {},
   "outputs": [],
   "source": [
    "#dados servidor\n",
    "config = {\n",
    "    'user': 'root',\n",
    "    'password': 'jhoehashimoto',\n",
    "    'host': 'localhost',\n",
    "    'database': 'sales_customer_gold'\n",
    "}"
   ]
  },
  {
   "cell_type": "code",
   "execution_count": 5,
   "metadata": {},
   "outputs": [
    {
     "name": "stdout",
     "output_type": "stream",
     "text": [
      "Tabela criada com sucesso\n"
     ]
    }
   ],
   "source": [
    "#Criando a tabela join\n",
    "try:\n",
    "    # Criando a conexão\n",
    "    connection = mysql.connector.connect(**config)\n",
    "    \n",
    "    if connection.is_connected():\n",
    "        cursor = connection.cursor()\n",
    "\n",
    "        # Criando o schema\n",
    "        sales_customer_gold = \"\"\"\n",
    "                        CREATE TABLE sales_customer_gold (\n",
    "                            id_cliente int NOT NULL,\n",
    "                            nome varchar(50),\n",
    "                            sobrenome varchar(50),\n",
    "                            email varchar(50),\n",
    "                            telefone varchar(20),\n",
    "                            endereco varchar(50),\n",
    "                            numero int,\n",
    "                            order_id int,\n",
    "                            product_name varchar(50),\n",
    "                            quantity int,\n",
    "                            unit_price int,\n",
    "                            order_date date,\n",
    "                            PRIMARY KEY (order_id)\n",
    "                        ) \n",
    "        \"\"\"\n",
    "        \n",
    "        cursor.execute(sales_customer_gold)\n",
    "        print('Tabela criada com sucesso')\n",
    "        \n",
    "        # Fechando o cursor e a conexão\n",
    "        cursor.close()\n",
    "        connection.close()\n",
    "    else:\n",
    "        print('Não foi possível conectar ao banco de dados')\n",
    "    \n",
    "except mysql.connector.Error as err:\n",
    "    if err.errno == errorcode.ER_TABLE_EXISTS_ERROR:\n",
    "        print(\"A tabela já existe.\")\n",
    "    else:\n",
    "        print(f\"Erro: {err.msg}\")\n",
    "finally:\n",
    "    # Garantir que a conexão seja fechada se aberta\n",
    "    if connection.is_connected():\n",
    "        connection.close()\n",
    "        print('Conexão ao MySQL fechada')"
   ]
  },
  {
   "cell_type": "code",
   "execution_count": 7,
   "metadata": {},
   "outputs": [
    {
     "name": "stdout",
     "output_type": "stream",
     "text": [
      "Commit realizado com sucesso\n",
      "Conexão ao MySQL fechada\n"
     ]
    }
   ],
   "source": [
    "#INSERT tabela sales_customer_gold\n",
    "\n",
    "try:\n",
    "    connection = mysql.connector.connect(**config)\n",
    "    \n",
    "    if connection.is_connected():\n",
    "        cursor = connection.cursor()\n",
    "        \n",
    "        query = \"\"\"\n",
    "            INSERT INTO sales_customer_gold\n",
    "            SELECT * FROM sales_customer_silver.join_sales_customer_silver\n",
    "        \"\"\"\n",
    "        \n",
    "        cursor.execute(query)\n",
    "        \n",
    "        # Commit das alterações e fechamento do cursor\n",
    "        connection.commit()\n",
    "        cursor.close()\n",
    "        print('Commit realizado com sucesso')\n",
    "    \n",
    "except mysql.connector.Error as err:\n",
    "    print(f\"Erro MySQL: {err}\")\n",
    "    if connection.is_connected():\n",
    "        connection.rollback()\n",
    "finally:\n",
    "    # Fechamento da conexão\n",
    "    if connection.is_connected():\n",
    "        connection.close()\n",
    "        print('Conexão ao MySQL fechada')"
   ]
  }
 ],
 "metadata": {
  "kernelspec": {
   "display_name": ".venv",
   "language": "python",
   "name": "python3"
  },
  "language_info": {
   "codemirror_mode": {
    "name": "ipython",
    "version": 3
   },
   "file_extension": ".py",
   "mimetype": "text/x-python",
   "name": "python",
   "nbconvert_exporter": "python",
   "pygments_lexer": "ipython3",
   "version": "3.12.4"
  }
 },
 "nbformat": 4,
 "nbformat_minor": 2
}
