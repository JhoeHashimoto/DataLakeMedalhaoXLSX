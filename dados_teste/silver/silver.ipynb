{
 "cells": [
  {
   "cell_type": "code",
   "execution_count": 12,
   "metadata": {},
   "outputs": [],
   "source": [
    "import pandas as pd"
   ]
  },
  {
   "cell_type": "code",
   "execution_count": 13,
   "metadata": {},
   "outputs": [],
   "source": [
    "#trazendo os dados da bronze\n",
    "path_customer_bronze = \"C:\\\\Users\\\\jhoe.hashimoto\\\\Desktop\\\\dados_teste\\\\bronze\\\\customer_data.parquet\"\n",
    "path_sales_bronze = \"C:\\\\Users\\\\jhoe.hashimoto\\\\Desktop\\\\dados_teste\\\\bronze\\\\sales_data.parquet\""
   ]
  },
  {
   "cell_type": "markdown",
   "metadata": {},
   "source": [
    "*ABERTURA E LEITURA DE ARQUIVO*"
   ]
  },
  {
   "cell_type": "code",
   "execution_count": 14,
   "metadata": {},
   "outputs": [],
   "source": [
    "#lendo os datasets\n",
    "df_customer = pd.read_parquet(path_customer_bronze)\n",
    "df_sales = pd.read_parquet(path_sales_bronze)"
   ]
  },
  {
   "cell_type": "markdown",
   "metadata": {},
   "source": [
    "*INÍCIO ANÁLISE EXPLORATÓRIA*"
   ]
  },
  {
   "cell_type": "code",
   "execution_count": 15,
   "metadata": {},
   "outputs": [
    {
     "name": "stdout",
     "output_type": "stream",
     "text": [
      "<class 'pandas.core.frame.DataFrame'>\n",
      "RangeIndex: 100 entries, 0 to 99\n",
      "Data columns (total 7 columns):\n",
      " #   Column      Non-Null Count  Dtype \n",
      "---  ------      --------------  ----- \n",
      " 0   id_cliente  100 non-null    int64 \n",
      " 1   nome        100 non-null    object\n",
      " 2   sobrenome   100 non-null    object\n",
      " 3   email       100 non-null    object\n",
      " 4   telefone    100 non-null    object\n",
      " 5   endereço    100 non-null    object\n",
      " 6   numero      100 non-null    int64 \n",
      "dtypes: int64(2), object(5)\n",
      "memory usage: 5.6+ KB\n"
     ]
    }
   ],
   "source": [
    "#verificando dados da customer\n",
    "df_customer.info()\n"
   ]
  },
  {
   "cell_type": "code",
   "execution_count": 16,
   "metadata": {},
   "outputs": [
    {
     "name": "stdout",
     "output_type": "stream",
     "text": [
      "<class 'pandas.core.frame.DataFrame'>\n",
      "RangeIndex: 100 entries, 0 to 99\n",
      "Data columns (total 6 columns):\n",
      " #   Column        Non-Null Count  Dtype         \n",
      "---  ------        --------------  -----         \n",
      " 0   order_id      100 non-null    int64         \n",
      " 1   product_name  100 non-null    object        \n",
      " 2   quantity      100 non-null    int64         \n",
      " 3   unit_price    100 non-null    int64         \n",
      " 4   cliente_id    100 non-null    int64         \n",
      " 5   order_date    100 non-null    datetime64[ns]\n",
      "dtypes: datetime64[ns](1), int64(4), object(1)\n",
      "memory usage: 4.8+ KB\n"
     ]
    }
   ],
   "source": [
    "#verificando dados da sales\n",
    "df_sales.info()\n"
   ]
  },
  {
   "cell_type": "code",
   "execution_count": null,
   "metadata": {},
   "outputs": [],
   "source": [
    "# duplicados = df_sales.duplicated(subset=['order_id'])\n",
    "# # Exibindo as linhas duplicadas (marcadas como True)\n",
    "# duplicados"
   ]
  },
  {
   "cell_type": "code",
   "execution_count": null,
   "metadata": {},
   "outputs": [],
   "source": [
    "# #verificando duplicidade no dataframe, através da chave order_id\n",
    "# contagem_por_valor = df_sales['order_id'].value_counts()\n",
    "# contagem_por_valor"
   ]
  },
  {
   "cell_type": "code",
   "execution_count": null,
   "metadata": {},
   "outputs": [],
   "source": [
    "# #verificando duplicidade de chave no dataframe, através da chave id_cliente\n",
    "# contagem_por_valor = df_customer['id_cliente'].value_counts()\n",
    "# contagem_por_valor"
   ]
  },
  {
   "cell_type": "code",
   "execution_count": 106,
   "metadata": {},
   "outputs": [],
   "source": [
    "# #apagando células vazias \n",
    "# df_sales.dropna(inplace = True)\n",
    "# df_customer.dropna(inplace = True)  ####"
   ]
  },
  {
   "cell_type": "code",
   "execution_count": null,
   "metadata": {},
   "outputs": [],
   "source": [
    "#rename df_customer\n",
    "df_consumidores=df_customer.rename(columns={'id_cliente':'id_cliente',\n",
    "                                            'nome': 'nome', 'sobrenome': 'sobrenome', 'email':'email', 'telefone': 'telefone',\n",
    "                                            'endereço' : 'endereco', 'numero' :'numero'})\n",
    "df_consumidores.head()"
   ]
  },
  {
   "cell_type": "code",
   "execution_count": null,
   "metadata": {},
   "outputs": [],
   "source": [
    "#rename df_sales\n",
    "df_vendas=df_sales.rename(columns={'order_id' : 'order_id', \n",
    "                                   'product_name':'product_name', 'quantity':'quantity', 'unit_price':'unit_price', \n",
    "                                   'cliente_id': 'id_cliente'  ,'order_date':'order_date'})\n",
    "df_vendas.head()"
   ]
  },
  {
   "cell_type": "markdown",
   "metadata": {},
   "source": [
    "*Teste Salvando em CSV*"
   ]
  },
  {
   "cell_type": "code",
   "execution_count": 111,
   "metadata": {},
   "outputs": [],
   "source": [
    "# df_vendas.to_csv('vendas.csv', index=False)\n",
    "# df_consumidores.to_csv('consumidores.csv', index=False)"
   ]
  },
  {
   "cell_type": "code",
   "execution_count": null,
   "metadata": {},
   "outputs": [],
   "source": [
    "################ MERGE PANDAS =! (INSERT, UPDATE, DELETE) ###############################\n",
    "# df_combined = pd.merge(df_consumidores, df_vendas, on='id_cliente')\n",
    "# df_combined.head()"
   ]
  },
  {
   "cell_type": "markdown",
   "metadata": {},
   "source": [
    "*CONEXÃO COM O MYSQL*"
   ]
  },
  {
   "cell_type": "code",
   "execution_count": null,
   "metadata": {},
   "outputs": [],
   "source": [
    "!pip install mysql-connector-python"
   ]
  },
  {
   "cell_type": "code",
   "execution_count": 21,
   "metadata": {},
   "outputs": [],
   "source": [
    "from mysql.connector import connect\n",
    "import mysql.connector\n",
    "from mysql.connector import errorcode"
   ]
  },
  {
   "cell_type": "code",
   "execution_count": 28,
   "metadata": {},
   "outputs": [],
   "source": [
    "#dados servidor\n",
    "config = {\n",
    "    'user': 'root',\n",
    "    'password': 'jhoehashimoto',\n",
    "    'host': 'localhost',\n",
    "    'database': 'v2silver_sales_customer'\n",
    "}"
   ]
  },
  {
   "cell_type": "markdown",
   "metadata": {},
   "source": [
    "*CRIANDO AS TABELAS*"
   ]
  },
  {
   "cell_type": "code",
   "execution_count": 29,
   "metadata": {},
   "outputs": [
    {
     "name": "stdout",
     "output_type": "stream",
     "text": [
      "Tabela criada com sucesso\n"
     ]
    }
   ],
   "source": [
    "#Tabela Customer\n",
    "\n",
    "try:\n",
    "    # Criando a conexão\n",
    "    connection = mysql.connector.connect(**config)\n",
    "    \n",
    "    if connection.is_connected():\n",
    "        cursor = connection.cursor()\n",
    "\n",
    "        # Criando a tabela\n",
    "        customer_silver = \"\"\"\n",
    "                        CREATE TABLE customer_silver (\n",
    "                            id_cliente int NOT NULL,\n",
    "                            nome varchar(50),\n",
    "                            sobrenome varchar(50),\n",
    "                            email varchar(50),\n",
    "                            telefone varchar(20),\n",
    "                            endereco varchar(50),\n",
    "                            numero int,\n",
    "                            PRIMARY KEY (id_cliente)\n",
    "                        ) \n",
    "        \"\"\"\n",
    "        \n",
    "        cursor.execute(customer_silver)\n",
    "        print('Tabela criada com sucesso')\n",
    "        \n",
    "        # Fechando o cursor e a conexão\n",
    "        cursor.close()\n",
    "        connection.close()\n",
    "    else:\n",
    "        print('Não foi possível conectar ao banco de dados')\n",
    "    \n",
    "except mysql.connector.Error as err:\n",
    "    if err.errno == errorcode.ER_TABLE_EXISTS_ERROR:\n",
    "        print(\"A tabela já existe.\")\n",
    "    else:\n",
    "        print(f\"Erro: {err.msg}\")\n",
    "finally:\n",
    "    # Garantir que a conexão seja fechada se aberta\n",
    "    if connection.is_connected():\n",
    "        connection.close()\n",
    "        print('Conexão ao MySQL fechada')"
   ]
  },
  {
   "cell_type": "code",
   "execution_count": 30,
   "metadata": {},
   "outputs": [
    {
     "name": "stdout",
     "output_type": "stream",
     "text": [
      "Tabela criada com sucesso\n"
     ]
    }
   ],
   "source": [
    "#Tabela SALES \n",
    "try:\n",
    "    # Criando a conexão\n",
    "    connection = mysql.connector.connect(**config)\n",
    "    \n",
    "    if connection.is_connected():\n",
    "        cursor = connection.cursor()\n",
    "\n",
    "        # Criando a tabela\n",
    "        sales_silver = \"\"\"\n",
    "                        CREATE TABLE sales_silver (\n",
    "                        order_id int NOT NULL,\n",
    "                        product_name varchar(50),\n",
    "                        quantity int,\n",
    "                        unit_price int,\n",
    "                        id_cliente int,\n",
    "                        order_date date,\n",
    "                        PRIMARY KEY (order_id),\n",
    "                        FOREIGN KEY (id_cliente) REFERENCES customer_silver (id_cliente)\n",
    "                    ) \n",
    "        \"\"\"\n",
    "        cursor.execute(sales_silver)\n",
    "        print('Tabela criada com sucesso')\n",
    "        \n",
    "        # Fechando o cursor e a conexão\n",
    "        cursor.close()\n",
    "        connection.close()\n",
    "    else:\n",
    "        print('Não foi possível conectar ao banco de dados')\n",
    "    \n",
    "except mysql.connector.Error as err:\n",
    "    if err.errno == errorcode.ER_TABLE_EXISTS_ERROR:\n",
    "        print(\"A tabela já existe.\")\n",
    "    else:\n",
    "        print(f\"Erro: {err.msg}\")\n",
    "finally:\n",
    "    # Garantir que a conexão seja fechada se aberta\n",
    "    if connection.is_connected():\n",
    "        connection.close()\n",
    "        print('Conexão ao MySQL fechada')"
   ]
  },
  {
   "cell_type": "markdown",
   "metadata": {},
   "source": [
    "*Conversão Tipagem do pandas para o mysql*"
   ]
  },
  {
   "cell_type": "code",
   "execution_count": 31,
   "metadata": {},
   "outputs": [],
   "source": [
    "import numpy as np\n",
    "def pandas_to_mysql_type(value):\n",
    "    if isinstance(value, np.int64):\n",
    "        return int(value)\n",
    "    elif isinstance(value, np.float64):\n",
    "        return float(value)\n",
    "    elif isinstance(value, pd.Timestamp):\n",
    "        return value.to_pydatetime().strftime('%Y-%m-%d %H:%M:%S')\n",
    "    elif isinstance(value, pd.Series):\n",
    "        return value.values.tolist()\n",
    "    else:\n",
    "        return value"
   ]
  },
  {
   "cell_type": "code",
   "execution_count": 32,
   "metadata": {},
   "outputs": [
    {
     "name": "stdout",
     "output_type": "stream",
     "text": [
      "Dados inseridos com sucesso\n",
      "Conexão ao MySQL fechada\n"
     ]
    }
   ],
   "source": [
    "#INSERT tabela customer_silver\n",
    "\n",
    "try:\n",
    "    connection = mysql.connector.connect(**config)\n",
    "    \n",
    "    if connection.is_connected():\n",
    "        cursor = connection.cursor()\n",
    "        \n",
    "        # Inserir os dados da tabela df_consumidores na tabela customer_silver\n",
    "        for i in df_consumidores.index:\n",
    "            query = \"\"\"\n",
    "            INSERT INTO customer_silver (id_cliente, nome, sobrenome, email, telefone, endereco, numero)\n",
    "            VALUES (%s, %s, %s, %s, %s, %s, %s)\n",
    "            \"\"\"\n",
    "            data = (\n",
    "                pandas_to_mysql_type(df_consumidores['id_cliente'][i]),\n",
    "                df_consumidores['nome'][i],\n",
    "                df_consumidores['sobrenome'][i],\n",
    "                df_consumidores['email'][i],\n",
    "                df_consumidores['telefone'][i],\n",
    "                df_consumidores['endereco'][i],\n",
    "                pandas_to_mysql_type(df_consumidores['numero'][i])\n",
    "            )\n",
    "            cursor.execute(query, data)\n",
    "        \n",
    "        # Commit das alterações e fechamento do cursor\n",
    "        connection.commit()\n",
    "        cursor.close()\n",
    "        print('Dados inseridos com sucesso')\n",
    "    \n",
    "except mysql.connector.Error as err:\n",
    "    print(f\"Erro: {err}\")\n",
    "    if connection.is_connected():\n",
    "        connection.rollback()\n",
    "finally:\n",
    "    # Fechamento da conexão\n",
    "    if connection.is_connected():\n",
    "        connection.close()\n",
    "        print('Conexão ao MySQL fechada')"
   ]
  },
  {
   "cell_type": "code",
   "execution_count": null,
   "metadata": {},
   "outputs": [],
   "source": [
    "#INSERT tabela sales_silver\n",
    "\n",
    "try:\n",
    "    connection = mysql.connector.connect(**config)\n",
    "    \n",
    "    if connection.is_connected():\n",
    "        cursor = connection.cursor()\n",
    "        \n",
    "        # Inserir os dados da tabela df_vendas na tabela sales_silver\n",
    "        for i in df_vendas.index:\n",
    "            query = \"\"\"\n",
    "            INSERT INTO sales_silver (order_id, product_name, quantity, unit_price, id_cliente, order_date)\n",
    "            VALUES (%s, %s, %s, %s, %s, %s)\n",
    "            \"\"\"\n",
    "            data = (\n",
    "                pandas_to_mysql_type(df_vendas['order_id'][i]),\n",
    "                df_vendas['product_name'][i],\n",
    "                pandas_to_mysql_type(df_vendas['quantity'][i]),\n",
    "                pandas_to_mysql_type(df_vendas['unit_price'][i]),\n",
    "                pandas_to_mysql_type(df_vendas['id_cliente'][i]),\n",
    "                pandas_to_mysql_type(df_vendas['order_date'][i]),\n",
    "            )\n",
    "            \n",
    "            # Verifica se o order_id já existe na tabela\n",
    "            check_query = \"SELECT order_id FROM sales_silver WHERE order_id = %s\"\n",
    "            cursor.execute(check_query, (data[0],))\n",
    "            result = cursor.fetchone()\n",
    "            \n",
    "            if not result:\n",
    "                cursor.execute(query, data)\n",
    "                print(f'Dados inseridos com sucesso para order_id {data[0]}')\n",
    "            else:\n",
    "                print(f'Registro com order_id {data[0]} já existe, pulando inserção.')\n",
    "        \n",
    "        # Commit das alterações e fechamento do cursor\n",
    "        connection.commit()\n",
    "        cursor.close()\n",
    "        print('Commit realizado com sucesso')\n",
    "    \n",
    "except mysql.connector.Error as err:\n",
    "    print(f\"Erro MySQL: {err}\")\n",
    "    if connection.is_connected():\n",
    "        connection.rollback()\n",
    "finally:\n",
    "    # Fechamento da conexão\n",
    "    if connection.is_connected():\n",
    "        connection.close()\n",
    "        print('Conexão ao MySQL fechada')"
   ]
  }
 ],
 "metadata": {
  "kernelspec": {
   "display_name": ".venv",
   "language": "python",
   "name": "python3"
  },
  "language_info": {
   "codemirror_mode": {
    "name": "ipython",
    "version": 3
   },
   "file_extension": ".py",
   "mimetype": "text/x-python",
   "name": "python",
   "nbconvert_exporter": "python",
   "pygments_lexer": "ipython3",
   "version": "3.12.4"
  }
 },
 "nbformat": 4,
 "nbformat_minor": 2
}
